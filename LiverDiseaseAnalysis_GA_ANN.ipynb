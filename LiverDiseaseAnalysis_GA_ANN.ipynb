{
  "nbformat": 4,
  "nbformat_minor": 0,
  "metadata": {
    "colab": {
      "provenance": [],
      "toc_visible": true
    },
    "kernelspec": {
      "name": "python3",
      "display_name": "Python 3"
    },
    "language_info": {
      "name": "python"
    }
  },
  "cells": [
    {
      "cell_type": "code",
      "execution_count": null,
      "metadata": {
        "id": "HWLEz4JEwh5X"
      },
      "outputs": [],
      "source": [
        "import pandas as pd\n",
        "import numpy as np\n",
        "import seaborn as sns\n",
        "import matplotlib.pyplot as plt\n",
        "from sklearn.metrics import mean_squared_error, r2_score\n",
        "from sklearn.preprocessing import StandardScaler\n",
        "from sklearn.linear_model import LogisticRegression\n",
        "from sklearn.ensemble import RandomForestClassifier\n",
        "from sklearn.neighbors import KNeighborsClassifier\n",
        "from sklearn.model_selection import KFold, cross_val_score\n",
        "from sklearn.model_selection import train_test_split, GridSearchCV\n",
        "from sklearn.model_selection import KFold\n",
        "from sklearn.metrics import make_scorer, accuracy_score,roc_auc_score,roc_curve, auc,classification_report\n",
        "from sklearn.preprocessing import MinMaxScaler\n",
        "from keras.models import Sequential\n",
        "from keras.layers import Dense\n",
        "from keras.regularizers import l1\n",
        "from tensorflow import keras\n",
        "from sklearn.ensemble import RandomForestClassifier\n",
        "import tensorflow as tf"
      ]
    },
    {
      "cell_type": "code",
      "source": [
        "from google.colab import drive\n",
        "drive.mount('/content/drive')"
      ],
      "metadata": {
        "colab": {
          "base_uri": "https://localhost:8080/"
        },
        "id": "AyfUrSAbmYXu",
        "outputId": "67101e01-16d1-43a6-aae5-a635ff15e3ea"
      },
      "execution_count": null,
      "outputs": [
        {
          "output_type": "stream",
          "name": "stdout",
          "text": [
            "Mounted at /content/drive\n"
          ]
        }
      ]
    },
    {
      "cell_type": "code",
      "source": [
        "data = pd.read_csv('/content/drive/MyDrive/DMPA_Project/Indian Liver Patient Dataset (ILPD).csv')"
      ],
      "metadata": {
        "id": "60fpK5qiw30o"
      },
      "execution_count": null,
      "outputs": []
    },
    {
      "cell_type": "code",
      "source": [
        "col_names = ['Age','Gender','TB_total_bilirubin', 'DB_Direct_Bilirubin','Alkphos_Alkaline_Phosphotase', 'Sgpt_Alamine_Aminotransferase',\n",
        "       'Sgot_Aspartate_Aminotransferase', 'TP_Total_Protiens', 'ALB_Albumin', 'A/G_Ratio','Selector Field']\n",
        "len(col_names)"
      ],
      "metadata": {
        "id": "6z0c109Zw72Q",
        "colab": {
          "base_uri": "https://localhost:8080/"
        },
        "outputId": "7866c91e-2b2f-4644-ce81-cdddd24565bf"
      },
      "execution_count": null,
      "outputs": [
        {
          "output_type": "execute_result",
          "data": {
            "text/plain": [
              "11"
            ]
          },
          "metadata": {},
          "execution_count": 4
        }
      ]
    },
    {
      "cell_type": "code",
      "source": [
        "data.columns = col_names"
      ],
      "metadata": {
        "id": "gzFOaKmbxBqe"
      },
      "execution_count": null,
      "outputs": []
    },
    {
      "cell_type": "code",
      "source": [
        "data.isnull().sum()"
      ],
      "metadata": {
        "id": "kmIxGRBfxFk9",
        "colab": {
          "base_uri": "https://localhost:8080/"
        },
        "outputId": "d1c2fa22-0a3d-4ca0-8a8d-5bd170e29c28"
      },
      "execution_count": null,
      "outputs": [
        {
          "output_type": "execute_result",
          "data": {
            "text/plain": [
              "Age                                0\n",
              "Gender                             0\n",
              "TB_total_bilirubin                 0\n",
              "DB_Direct_Bilirubin                0\n",
              "Alkphos_Alkaline_Phosphotase       0\n",
              "Sgpt_Alamine_Aminotransferase      0\n",
              "Sgot_Aspartate_Aminotransferase    0\n",
              "TP_Total_Protiens                  0\n",
              "ALB_Albumin                        0\n",
              "A/G_Ratio                          4\n",
              "Selector Field                     0\n",
              "dtype: int64"
            ]
          },
          "metadata": {},
          "execution_count": 6
        }
      ]
    },
    {
      "cell_type": "code",
      "source": [
        "data['A/G_Ratio'].fillna(round(data['A/G_Ratio'].mean(),2),inplace=True)"
      ],
      "metadata": {
        "id": "Qf193Pq3xHHX"
      },
      "execution_count": null,
      "outputs": []
    },
    {
      "cell_type": "code",
      "source": [
        "data.isnull().sum()"
      ],
      "metadata": {
        "id": "sS5aENhuxLLv",
        "colab": {
          "base_uri": "https://localhost:8080/"
        },
        "outputId": "0906971d-418e-48bc-cad0-a0a47853021f"
      },
      "execution_count": null,
      "outputs": [
        {
          "output_type": "execute_result",
          "data": {
            "text/plain": [
              "Age                                0\n",
              "Gender                             0\n",
              "TB_total_bilirubin                 0\n",
              "DB_Direct_Bilirubin                0\n",
              "Alkphos_Alkaline_Phosphotase       0\n",
              "Sgpt_Alamine_Aminotransferase      0\n",
              "Sgot_Aspartate_Aminotransferase    0\n",
              "TP_Total_Protiens                  0\n",
              "ALB_Albumin                        0\n",
              "A/G_Ratio                          0\n",
              "Selector Field                     0\n",
              "dtype: int64"
            ]
          },
          "metadata": {},
          "execution_count": 8
        }
      ]
    },
    {
      "cell_type": "code",
      "source": [
        "data['Selector Field'] = data['Selector Field'].map(lambda x:0 if x==2 else 1)  # 0-no disease, 1-disease\n",
        "data['Gender'] = data['Gender'].map(lambda x:0 if x==\"Male\" else 1)\n",
        "value_table = pd.crosstab(data['Gender'],data['Selector Field'])\n",
        "value_table.columns = [\"No Disease\",\"Disease Present\"]\n",
        "value_table.index = [\"Male\",\"Female\"]\n",
        "print(value_table)"
      ],
      "metadata": {
        "id": "31WiYf5-xLVd",
        "colab": {
          "base_uri": "https://localhost:8080/"
        },
        "outputId": "c60cf56b-0ba5-4025-f452-e512417c20ca"
      },
      "execution_count": null,
      "outputs": [
        {
          "output_type": "stream",
          "name": "stdout",
          "text": [
            "        No Disease  Disease Present\n",
            "Male           117              324\n",
            "Female          50               91\n"
          ]
        }
      ]
    },
    {
      "cell_type": "code",
      "source": [
        "X = data.drop('Selector Field',axis=1)\n",
        "y = data['Selector Field']"
      ],
      "metadata": {
        "id": "lSfuCFjHxUEU"
      },
      "execution_count": null,
      "outputs": []
    },
    {
      "cell_type": "code",
      "source": [
        "from sklearn.preprocessing import StandardScaler\n",
        "\n",
        "scaler = StandardScaler()\n",
        "X_Scaled = scaler.fit_transform(X)"
      ],
      "metadata": {
        "id": "QxkltLblxc6m"
      },
      "execution_count": null,
      "outputs": []
    },
    {
      "cell_type": "code",
      "source": [
        "Xtrain, Xtest, y_train, y_test = train_test_split(X,y,test_size=0.3,random_state=1)"
      ],
      "metadata": {
        "id": "RACcaD7qxgLf"
      },
      "execution_count": null,
      "outputs": []
    },
    {
      "cell_type": "code",
      "source": [
        "from sklearn.preprocessing import StandardScaler\n",
        "\n",
        "scaler = StandardScaler()\n",
        "X_train = scaler.fit_transform(Xtrain)\n",
        "X_test = scaler.transform(Xtest)\n",
        "\n",
        "print(len(X_train))\n",
        "print(len(y_train))"
      ],
      "metadata": {
        "colab": {
          "base_uri": "https://localhost:8080/"
        },
        "id": "dWF4_Qt9xjky",
        "outputId": "aa4c7ed0-e0ed-49a6-f46b-a49ec5db2075"
      },
      "execution_count": null,
      "outputs": [
        {
          "output_type": "stream",
          "name": "stdout",
          "text": [
            "407\n",
            "407\n"
          ]
        }
      ]
    },
    {
      "cell_type": "code",
      "source": [
        "pip install deap"
      ],
      "metadata": {
        "colab": {
          "base_uri": "https://localhost:8080/"
        },
        "id": "IP7rDo7ahYvq",
        "outputId": "5772e614-f6fe-4513-958d-b5e6a81a7bf4"
      },
      "execution_count": null,
      "outputs": [
        {
          "output_type": "stream",
          "name": "stdout",
          "text": [
            "Collecting deap\n",
            "  Downloading deap-1.4.1-cp310-cp310-manylinux_2_5_x86_64.manylinux1_x86_64.manylinux_2_17_x86_64.manylinux2014_x86_64.whl (135 kB)\n",
            "\u001b[?25l     \u001b[90m━━━━━━━━━━━━━━━━━━━━━━━━━━━━━━━━━━━━━━━━\u001b[0m \u001b[32m0.0/135.4 kB\u001b[0m \u001b[31m?\u001b[0m eta \u001b[36m-:--:--\u001b[0m\r\u001b[2K     \u001b[91m━━━━━━━━━━━━━━━━━━━━━\u001b[0m\u001b[90m╺\u001b[0m\u001b[90m━━━━━━━━━━━━━━━━━━\u001b[0m \u001b[32m71.7/135.4 kB\u001b[0m \u001b[31m1.9 MB/s\u001b[0m eta \u001b[36m0:00:01\u001b[0m\r\u001b[2K     \u001b[90m━━━━━━━━━━━━━━━━━━━━━━━━━━━━━━━━━━━━━━━━\u001b[0m \u001b[32m135.4/135.4 kB\u001b[0m \u001b[31m2.7 MB/s\u001b[0m eta \u001b[36m0:00:00\u001b[0m\n",
            "\u001b[?25hRequirement already satisfied: numpy in /usr/local/lib/python3.10/dist-packages (from deap) (1.23.5)\n",
            "Installing collected packages: deap\n",
            "Successfully installed deap-1.4.1\n"
          ]
        }
      ]
    },
    {
      "cell_type": "markdown",
      "source": [
        "GENETIC ALGORITHM"
      ],
      "metadata": {
        "id": "ryGQYdbSxku3"
      }
    },
    {
      "cell_type": "code",
      "source": [
        "import random\n",
        "import numpy as np\n",
        "from deap import base, creator, tools, algorithms\n",
        "from sklearn.model_selection import train_test_split\n",
        "from sklearn.ensemble import RandomForestClassifier\n",
        "from sklearn.metrics import accuracy_score\n",
        "\n",
        "# Define the number of features (genes) to select\n",
        "num_features_to_select = X.shape[1]  # You can adjust this number\n",
        "\n",
        "# Create a fitness function for classification accuracy\n",
        "creator.create(\"FitnessMax\", base.Fitness, weights=(1.0,))\n",
        "creator.create(\"Individual\", list, fitness=creator.FitnessMax)\n",
        "\n",
        "# Initialize the toolbox\n",
        "toolbox = base.Toolbox()\n",
        "toolbox.register(\"attr_bool\", random.choice, [True, False])\n",
        "toolbox.register(\"individual\", tools.initRepeat, creator.Individual, toolbox.attr_bool, n=num_features_to_select)\n",
        "toolbox.register(\"population\", tools.initRepeat, list, toolbox.individual)\n",
        "\n",
        "# Define the evaluation function (fitness function)\n",
        "def evaluate(individual):\n",
        "    selected_features = [feature for feature, select in zip(X_train.T, individual) if select]\n",
        "    if not any(individual) or len(selected_features) == 0:\n",
        "        return 0.0,  # If no features are selected, return a fitness of 0\n",
        "    clf = RandomForestClassifier(random_state=0)\n",
        "    clf.fit(X_train[:, individual], y_train)\n",
        "    y_pred = clf.predict(X_test[:, individual])\n",
        "    accuracy = accuracy_score(y_test, y_pred)\n",
        "    return accuracy,\n",
        "\n",
        "toolbox.register(\"evaluate\", evaluate)\n",
        "toolbox.register(\"mate\", tools.cxTwoPoint)\n",
        "toolbox.register(\"mutate\", tools.mutFlipBit, indpb=0.05)\n",
        "toolbox.register(\"select\", tools.selTournament, tournsize=3)\n",
        "\n",
        "# Create the initial population\n",
        "population = toolbox.population(n=50)  # You can adjust the population size\n",
        "\n",
        "# Run the genetic algorithm\n",
        "generations = 10  # You can adjust the number of generations\n",
        "for gen in range(generations):\n",
        "    offspring = algorithms.varAnd(population, toolbox, cxpb=0.7, mutpb=0.3)\n",
        "    fits = toolbox.map(toolbox.evaluate, offspring)\n",
        "    for fit, ind in zip(fits, offspring):\n",
        "        ind.fitness.values = fit\n",
        "    population = toolbox.select(offspring, k=len(population))\n",
        "\n",
        "# Find and print the best individual (selected features)\n",
        "best_individual = tools.selBest(population, k=1)[0]\n",
        "selected_features_indices = [i for i, select in enumerate(best_individual) if select]\n",
        "print(\"Best Individual (Feature Selection):\", selected_features_indices)"
      ],
      "metadata": {
        "id": "g2Aq6QVOxm5a",
        "colab": {
          "base_uri": "https://localhost:8080/"
        },
        "outputId": "60bfbded-3316-4e02-e42e-97a0743073fd"
      },
      "execution_count": null,
      "outputs": [
        {
          "output_type": "stream",
          "name": "stdout",
          "text": [
            "Best Individual (Feature Selection): [0, 2, 3, 5]\n"
          ]
        }
      ]
    },
    {
      "cell_type": "markdown",
      "source": [
        "ARTIFICIAL NEURAL NETWORK"
      ],
      "metadata": {
        "id": "TEwMfqAxnqLu"
      }
    },
    {
      "cell_type": "code",
      "source": [
        "from tensorflow.keras.models import Sequential\n",
        "from tensorflow.keras.layers import Dense, Dropout\n",
        "from tensorflow.keras.optimizers import Adam\n",
        "from tensorflow.keras import regularizers\n",
        "\n",
        "\n",
        "classifier = Sequential()\n",
        "classifier.add(Dense(units=256, activation='relu', input_dim=len(selected_features_indices)))\n",
        "classifier.add(Dropout(rate=0.5))\n",
        "classifier.add(Dense(units=128, activation='relu'))\n",
        "classifier.add(Dropout(rate=0.5))\n",
        "classifier.add(Dense(units=64, activation='relu'))\n",
        "classifier.add(Dense(units=32, activation='relu'))\n",
        "classifier.add(Dense(units=1, activation='sigmoid'))\n",
        "\n",
        "\n",
        "optimizer = Adam(learning_rate=0.00001)\n",
        "classifier.compile(optimizer=optimizer, loss='categorical_crossentropy', metrics=['accuracy'])\n",
        "classifier.summary()\n"
      ],
      "metadata": {
        "colab": {
          "base_uri": "https://localhost:8080/"
        },
        "id": "Iqbw3-7mntzG",
        "outputId": "654b46fe-0c58-4f22-834c-90b54f1c3ab4"
      },
      "execution_count": null,
      "outputs": [
        {
          "output_type": "stream",
          "name": "stdout",
          "text": [
            "Model: \"sequential_10\"\n",
            "_________________________________________________________________\n",
            " Layer (type)                Output Shape              Param #   \n",
            "=================================================================\n",
            " dense_50 (Dense)            (None, 256)               1280      \n",
            "                                                                 \n",
            " dropout_30 (Dropout)        (None, 256)               0         \n",
            "                                                                 \n",
            " dense_51 (Dense)            (None, 128)               32896     \n",
            "                                                                 \n",
            " dropout_31 (Dropout)        (None, 128)               0         \n",
            "                                                                 \n",
            " dense_52 (Dense)            (None, 64)                8256      \n",
            "                                                                 \n",
            " dense_53 (Dense)            (None, 32)                2080      \n",
            "                                                                 \n",
            " dense_54 (Dense)            (None, 1)                 33        \n",
            "                                                                 \n",
            "=================================================================\n",
            "Total params: 44545 (174.00 KB)\n",
            "Trainable params: 44545 (174.00 KB)\n",
            "Non-trainable params: 0 (0.00 Byte)\n",
            "_________________________________________________________________\n"
          ]
        }
      ]
    },
    {
      "cell_type": "code",
      "source": [
        "X_new = X_train[:, selected_features_indices]\n",
        "selected_columns = data.columns[selected_features_indices]\n",
        "X_new = pd.DataFrame(X_new, columns=selected_columns)\n",
        "print(X_new.head())"
      ],
      "metadata": {
        "colab": {
          "base_uri": "https://localhost:8080/"
        },
        "id": "rITqQ0nxoy-K",
        "outputId": "2372554f-637e-40c3-bafa-eff2a1c66c33"
      },
      "execution_count": null,
      "outputs": [
        {
          "output_type": "stream",
          "name": "stdout",
          "text": [
            "        Age  TB_total_bilirubin  DB_Direct_Bilirubin  \\\n",
            "0  0.197830            0.012221             0.057341   \n",
            "1  0.686922            2.744035             2.686936   \n",
            "2  0.625785            1.462908             1.335616   \n",
            "3  1.481696           -0.421102            -0.453969   \n",
            "4  1.848515            0.671624             0.787784   \n",
            "\n",
            "   Sgpt_Alamine_Aminotransferase  \n",
            "0                      -0.269058  \n",
            "1                      -0.219737  \n",
            "2                      -0.195077  \n",
            "3                      -0.273990  \n",
            "4                       0.544732  \n"
          ]
        }
      ]
    },
    {
      "cell_type": "code",
      "source": [
        "X_newtest = X_test[:, selected_features_indices]\n",
        "selected_columns = data.columns[selected_features_indices]\n",
        "X_newtest = pd.DataFrame(X_newtest, columns=selected_columns)\n",
        "print(X_newtest.head())"
      ],
      "metadata": {
        "colab": {
          "base_uri": "https://localhost:8080/"
        },
        "id": "2ChqZvrZsUzt",
        "outputId": "71019c59-f13f-4ad5-ab6b-5e613a8d473c"
      },
      "execution_count": null,
      "outputs": [
        {
          "output_type": "stream",
          "name": "stdout",
          "text": [
            "        Age  TB_total_bilirubin  DB_Direct_Bilirubin  \\\n",
            "0 -1.147173            0.690464             0.641695   \n",
            "1 -1.147173           -0.345741            -0.380925   \n",
            "2 -0.352399           -0.232701            -0.198314   \n",
            "3  0.931468           -0.213861            -0.125270   \n",
            "4 -0.291262            2.141152             1.810404   \n",
            "\n",
            "   Sgpt_Alamine_Aminotransferase  \n",
            "0                      -0.249329  \n",
            "1                      -0.244397  \n",
            "2                      -0.224669  \n",
            "3                      -0.175349  \n",
            "4                      -0.185213  \n"
          ]
        }
      ]
    },
    {
      "cell_type": "code",
      "source": [
        "epochs = 50\n",
        "batch_size = 50\n",
        "history = classifier.fit(X_new, y_train, epochs=epochs, batch_size=batch_size, shuffle=True, validation_split=0.1)"
      ],
      "metadata": {
        "colab": {
          "base_uri": "https://localhost:8080/"
        },
        "id": "jbhPvFodozXB",
        "outputId": "a310b5f1-98e7-4c71-849f-60346af9a2f5"
      },
      "execution_count": null,
      "outputs": [
        {
          "output_type": "stream",
          "name": "stdout",
          "text": [
            "Epoch 1/50\n",
            "8/8 [==============================] - 0s 31ms/step - loss: 0.5929 - accuracy: 0.6995 - val_loss: 0.5849 - val_accuracy: 0.7805\n",
            "Epoch 2/50\n",
            "8/8 [==============================] - 0s 17ms/step - loss: 0.5962 - accuracy: 0.6995 - val_loss: 0.5846 - val_accuracy: 0.7805\n",
            "Epoch 3/50\n",
            "8/8 [==============================] - 0s 13ms/step - loss: 0.5902 - accuracy: 0.6995 - val_loss: 0.5842 - val_accuracy: 0.7805\n",
            "Epoch 4/50\n",
            "8/8 [==============================] - 0s 12ms/step - loss: 0.5953 - accuracy: 0.6995 - val_loss: 0.5839 - val_accuracy: 0.7805\n",
            "Epoch 5/50\n",
            "8/8 [==============================] - 0s 14ms/step - loss: 0.5962 - accuracy: 0.7049 - val_loss: 0.5836 - val_accuracy: 0.7805\n",
            "Epoch 6/50\n",
            "8/8 [==============================] - 0s 12ms/step - loss: 0.5970 - accuracy: 0.6967 - val_loss: 0.5833 - val_accuracy: 0.7805\n",
            "Epoch 7/50\n",
            "8/8 [==============================] - 0s 8ms/step - loss: 0.5939 - accuracy: 0.7022 - val_loss: 0.5830 - val_accuracy: 0.7805\n",
            "Epoch 8/50\n",
            "8/8 [==============================] - 0s 9ms/step - loss: 0.5913 - accuracy: 0.6995 - val_loss: 0.5826 - val_accuracy: 0.7805\n",
            "Epoch 9/50\n",
            "8/8 [==============================] - 0s 7ms/step - loss: 0.5917 - accuracy: 0.6995 - val_loss: 0.5822 - val_accuracy: 0.7805\n",
            "Epoch 10/50\n",
            "8/8 [==============================] - 0s 8ms/step - loss: 0.5942 - accuracy: 0.7022 - val_loss: 0.5818 - val_accuracy: 0.7805\n",
            "Epoch 11/50\n",
            "8/8 [==============================] - 0s 16ms/step - loss: 0.5889 - accuracy: 0.6995 - val_loss: 0.5814 - val_accuracy: 0.7805\n",
            "Epoch 12/50\n",
            "8/8 [==============================] - 0s 15ms/step - loss: 0.5883 - accuracy: 0.7022 - val_loss: 0.5810 - val_accuracy: 0.7805\n",
            "Epoch 13/50\n",
            "8/8 [==============================] - 0s 19ms/step - loss: 0.5903 - accuracy: 0.6995 - val_loss: 0.5806 - val_accuracy: 0.7805\n",
            "Epoch 14/50\n",
            "8/8 [==============================] - 0s 18ms/step - loss: 0.5844 - accuracy: 0.6995 - val_loss: 0.5802 - val_accuracy: 0.7805\n",
            "Epoch 15/50\n",
            "8/8 [==============================] - 0s 17ms/step - loss: 0.5955 - accuracy: 0.6995 - val_loss: 0.5798 - val_accuracy: 0.7805\n",
            "Epoch 16/50\n",
            "8/8 [==============================] - 0s 28ms/step - loss: 0.5914 - accuracy: 0.6995 - val_loss: 0.5795 - val_accuracy: 0.7805\n",
            "Epoch 17/50\n",
            "8/8 [==============================] - 0s 16ms/step - loss: 0.5889 - accuracy: 0.6995 - val_loss: 0.5792 - val_accuracy: 0.7805\n",
            "Epoch 18/50\n",
            "8/8 [==============================] - 0s 28ms/step - loss: 0.5833 - accuracy: 0.7022 - val_loss: 0.5790 - val_accuracy: 0.7805\n",
            "Epoch 19/50\n",
            "8/8 [==============================] - 0s 15ms/step - loss: 0.5905 - accuracy: 0.6995 - val_loss: 0.5786 - val_accuracy: 0.7805\n",
            "Epoch 20/50\n",
            "8/8 [==============================] - 0s 17ms/step - loss: 0.5860 - accuracy: 0.6995 - val_loss: 0.5783 - val_accuracy: 0.7805\n",
            "Epoch 21/50\n",
            "8/8 [==============================] - 0s 15ms/step - loss: 0.5826 - accuracy: 0.7049 - val_loss: 0.5780 - val_accuracy: 0.7805\n",
            "Epoch 22/50\n",
            "8/8 [==============================] - 0s 14ms/step - loss: 0.5818 - accuracy: 0.6995 - val_loss: 0.5777 - val_accuracy: 0.7805\n",
            "Epoch 23/50\n",
            "8/8 [==============================] - 0s 17ms/step - loss: 0.5895 - accuracy: 0.6995 - val_loss: 0.5774 - val_accuracy: 0.7805\n",
            "Epoch 24/50\n",
            "8/8 [==============================] - 0s 20ms/step - loss: 0.5857 - accuracy: 0.6967 - val_loss: 0.5771 - val_accuracy: 0.7805\n",
            "Epoch 25/50\n",
            "8/8 [==============================] - 0s 17ms/step - loss: 0.5790 - accuracy: 0.6995 - val_loss: 0.5768 - val_accuracy: 0.7805\n",
            "Epoch 26/50\n",
            "8/8 [==============================] - 0s 30ms/step - loss: 0.5846 - accuracy: 0.6995 - val_loss: 0.5764 - val_accuracy: 0.7805\n",
            "Epoch 27/50\n",
            "8/8 [==============================] - 0s 16ms/step - loss: 0.5867 - accuracy: 0.6995 - val_loss: 0.5761 - val_accuracy: 0.7805\n",
            "Epoch 28/50\n",
            "8/8 [==============================] - 0s 13ms/step - loss: 0.5807 - accuracy: 0.6995 - val_loss: 0.5757 - val_accuracy: 0.7805\n",
            "Epoch 29/50\n",
            "8/8 [==============================] - 0s 18ms/step - loss: 0.5797 - accuracy: 0.7022 - val_loss: 0.5754 - val_accuracy: 0.7805\n",
            "Epoch 30/50\n",
            "8/8 [==============================] - 0s 14ms/step - loss: 0.5937 - accuracy: 0.6995 - val_loss: 0.5751 - val_accuracy: 0.7805\n",
            "Epoch 31/50\n",
            "8/8 [==============================] - 0s 15ms/step - loss: 0.5898 - accuracy: 0.6995 - val_loss: 0.5748 - val_accuracy: 0.7805\n",
            "Epoch 32/50\n",
            "8/8 [==============================] - 0s 25ms/step - loss: 0.5900 - accuracy: 0.6967 - val_loss: 0.5746 - val_accuracy: 0.7805\n",
            "Epoch 33/50\n",
            "8/8 [==============================] - 0s 14ms/step - loss: 0.5851 - accuracy: 0.6995 - val_loss: 0.5743 - val_accuracy: 0.7805\n",
            "Epoch 34/50\n",
            "8/8 [==============================] - 0s 25ms/step - loss: 0.5863 - accuracy: 0.6995 - val_loss: 0.5740 - val_accuracy: 0.7805\n",
            "Epoch 35/50\n",
            "8/8 [==============================] - 0s 22ms/step - loss: 0.5816 - accuracy: 0.6995 - val_loss: 0.5737 - val_accuracy: 0.7805\n",
            "Epoch 36/50\n",
            "8/8 [==============================] - 0s 41ms/step - loss: 0.5777 - accuracy: 0.6967 - val_loss: 0.5734 - val_accuracy: 0.7805\n",
            "Epoch 37/50\n",
            "8/8 [==============================] - 0s 26ms/step - loss: 0.5798 - accuracy: 0.6995 - val_loss: 0.5731 - val_accuracy: 0.7805\n",
            "Epoch 38/50\n",
            "8/8 [==============================] - 0s 10ms/step - loss: 0.5787 - accuracy: 0.6995 - val_loss: 0.5729 - val_accuracy: 0.7805\n",
            "Epoch 39/50\n",
            "8/8 [==============================] - 0s 8ms/step - loss: 0.5809 - accuracy: 0.6995 - val_loss: 0.5726 - val_accuracy: 0.7805\n",
            "Epoch 40/50\n",
            "8/8 [==============================] - 0s 8ms/step - loss: 0.5844 - accuracy: 0.6995 - val_loss: 0.5723 - val_accuracy: 0.7805\n",
            "Epoch 41/50\n",
            "8/8 [==============================] - 0s 8ms/step - loss: 0.5749 - accuracy: 0.6995 - val_loss: 0.5720 - val_accuracy: 0.7805\n",
            "Epoch 42/50\n",
            "8/8 [==============================] - 0s 8ms/step - loss: 0.5824 - accuracy: 0.6995 - val_loss: 0.5718 - val_accuracy: 0.7805\n",
            "Epoch 43/50\n",
            "8/8 [==============================] - 0s 8ms/step - loss: 0.5836 - accuracy: 0.6967 - val_loss: 0.5716 - val_accuracy: 0.7805\n",
            "Epoch 44/50\n",
            "8/8 [==============================] - 0s 10ms/step - loss: 0.5883 - accuracy: 0.6995 - val_loss: 0.5714 - val_accuracy: 0.7805\n",
            "Epoch 45/50\n",
            "8/8 [==============================] - 0s 9ms/step - loss: 0.5772 - accuracy: 0.6995 - val_loss: 0.5712 - val_accuracy: 0.7805\n",
            "Epoch 46/50\n",
            "8/8 [==============================] - 0s 8ms/step - loss: 0.5827 - accuracy: 0.6995 - val_loss: 0.5709 - val_accuracy: 0.7805\n",
            "Epoch 47/50\n",
            "8/8 [==============================] - 0s 10ms/step - loss: 0.5812 - accuracy: 0.6995 - val_loss: 0.5707 - val_accuracy: 0.7805\n",
            "Epoch 48/50\n",
            "8/8 [==============================] - 0s 8ms/step - loss: 0.5806 - accuracy: 0.6995 - val_loss: 0.5705 - val_accuracy: 0.7805\n",
            "Epoch 49/50\n",
            "8/8 [==============================] - 0s 8ms/step - loss: 0.5847 - accuracy: 0.6967 - val_loss: 0.5702 - val_accuracy: 0.7805\n",
            "Epoch 50/50\n",
            "8/8 [==============================] - 0s 8ms/step - loss: 0.5791 - accuracy: 0.6995 - val_loss: 0.5700 - val_accuracy: 0.7805\n"
          ]
        }
      ]
    },
    {
      "cell_type": "code",
      "source": [
        "from sklearn.metrics import confusion_matrix, accuracy_score\n",
        "y_pred = classifier.predict(X_newtest)\n",
        "y_pred = y_pred > 0.5\n",
        "\n",
        "print(\"Confusion matrix:\")\n",
        "print(confusion_matrix(y_test, y_pred))\n",
        "print(\"Accuracy: {:.2f}%\".format(accuracy_score(y_test, y_pred)*100))"
      ],
      "metadata": {
        "colab": {
          "base_uri": "https://localhost:8080/"
        },
        "id": "RefWmQ2Zr8eC",
        "outputId": "302dc7ee-7187-407a-c32f-063ff4a4a08f"
      },
      "execution_count": null,
      "outputs": [
        {
          "output_type": "stream",
          "name": "stdout",
          "text": [
            "6/6 [==============================] - 0s 3ms/step\n",
            "Confusion matrix:\n",
            "[[  0  48]\n",
            " [  0 127]]\n",
            "Accuracy: 72.57%\n"
          ]
        }
      ]
    }
  ]
}